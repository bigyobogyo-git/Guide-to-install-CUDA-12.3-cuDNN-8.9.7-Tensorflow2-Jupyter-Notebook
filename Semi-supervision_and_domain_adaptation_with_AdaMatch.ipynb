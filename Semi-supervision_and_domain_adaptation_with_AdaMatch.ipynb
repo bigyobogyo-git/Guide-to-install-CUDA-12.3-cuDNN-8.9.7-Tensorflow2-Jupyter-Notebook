{
 "cells": [
  {
   "cell_type": "code",
   "execution_count": 1,
   "id": "d1eab960-c3ee-4fa6-930f-ed043bd08075",
   "metadata": {},
   "outputs": [
    {
     "name": "stderr",
     "output_type": "stream",
     "text": [
      "2025-10-31 13:59:09.094549: E external/local_xla/xla/stream_executor/cuda/cuda_dnn.cc:9261] Unable to register cuDNN factory: Attempting to register factory for plugin cuDNN when one has already been registered\n",
      "2025-10-31 13:59:09.094575: E external/local_xla/xla/stream_executor/cuda/cuda_fft.cc:607] Unable to register cuFFT factory: Attempting to register factory for plugin cuFFT when one has already been registered\n",
      "2025-10-31 13:59:09.095552: E external/local_xla/xla/stream_executor/cuda/cuda_blas.cc:1515] Unable to register cuBLAS factory: Attempting to register factory for plugin cuBLAS when one has already been registered\n",
      "2025-10-31 13:59:09.100451: I tensorflow/core/platform/cpu_feature_guard.cc:182] This TensorFlow binary is optimized to use available CPU instructions in performance-critical operations.\n",
      "To enable the following instructions: AVX2 FMA, in other operations, rebuild TensorFlow with the appropriate compiler flags.\n",
      "/home/xy/Desktop/ml/legacy/legacy/lib/python3.10/site-packages/google/api_core/_python_version_support.py:266: FutureWarning: You are using a Python version (3.10.12) which Google will stop supporting in new releases of google.api_core once it reaches its end of life (2026-10-04). Please upgrade to the latest Python version, or at least Python 3.11, to continue receiving updates for google.api_core past that date.\n",
      "  warnings.warn(message, FutureWarning)\n",
      "2025-10-31 13:59:09.654823: W tensorflow/compiler/tf2tensorrt/utils/py_utils.cc:38] TF-TRT Warning: Could not find TensorRT\n"
     ]
    },
    {
     "name": "stdout",
     "output_type": "stream",
     "text": [
      "Using TensorFlow backend\n"
     ]
    },
    {
     "name": "stderr",
     "output_type": "stream",
     "text": [
      "/home/xy/Desktop/ml/legacy/legacy/lib/python3.10/site-packages/tqdm/auto.py:21: TqdmWarning: IProgress not found. Please update jupyter and ipywidgets. See https://ipywidgets.readthedocs.io/en/stable/user_install.html\n",
      "  from .autonotebook import tqdm as notebook_tqdm\n",
      "/home/xy/Desktop/ml/legacy/legacy/lib/python3.10/site-packages/tensorflow_hub/__init__.py:61: UserWarning: pkg_resources is deprecated as an API. See https://setuptools.pypa.io/en/latest/pkg_resources.html. The pkg_resources package is slated for removal as early as 2025-11-30. Refrain from using this package or pin to Setuptools<81.\n",
      "  from pkg_resources import parse_version\n"
     ]
    }
   ],
   "source": [
    "import tensorflow as tf\n",
    "\n",
    "tf.random.set_seed(42)\n",
    "\n",
    "import numpy as np\n",
    "\n",
    "from tensorflow import keras\n",
    "from tensorflow.keras import layers\n",
    "from tensorflow.keras import regularizers\n",
    "from keras_cv.layers import RandAugment\n",
    "\n",
    "import tensorflow_datasets as tfds\n",
    "\n",
    "tfds.disable_progress_bar()"
   ]
  },
  {
   "cell_type": "code",
   "execution_count": 2,
   "id": "1b4c9cf0-7e9a-46b9-9899-59f7c555ce35",
   "metadata": {},
   "outputs": [
    {
     "name": "stdout",
     "output_type": "stream",
     "text": [
      "Downloading data from https://storage.googleapis.com/tensorflow/tf-keras-datasets/mnist.npz\n",
      "11490434/11490434 [==============================] - 1s 0us/step\n"
     ]
    },
    {
     "name": "stderr",
     "output_type": "stream",
     "text": [
      "2025-10-31 13:59:32.533298: I external/local_xla/xla/stream_executor/cuda/cuda_executor.cc:901] successful NUMA node read from SysFS had negative value (-1), but there must be at least one NUMA node, so returning NUMA node zero. See more at https://github.com/torvalds/linux/blob/v6.0/Documentation/ABI/testing/sysfs-bus-pci#L344-L355\n",
      "2025-10-31 13:59:32.865911: I external/local_xla/xla/stream_executor/cuda/cuda_executor.cc:901] successful NUMA node read from SysFS had negative value (-1), but there must be at least one NUMA node, so returning NUMA node zero. See more at https://github.com/torvalds/linux/blob/v6.0/Documentation/ABI/testing/sysfs-bus-pci#L344-L355\n",
      "2025-10-31 13:59:32.867844: I external/local_xla/xla/stream_executor/cuda/cuda_executor.cc:901] successful NUMA node read from SysFS had negative value (-1), but there must be at least one NUMA node, so returning NUMA node zero. See more at https://github.com/torvalds/linux/blob/v6.0/Documentation/ABI/testing/sysfs-bus-pci#L344-L355\n",
      "2025-10-31 13:59:32.871321: I external/local_xla/xla/stream_executor/cuda/cuda_executor.cc:901] successful NUMA node read from SysFS had negative value (-1), but there must be at least one NUMA node, so returning NUMA node zero. See more at https://github.com/torvalds/linux/blob/v6.0/Documentation/ABI/testing/sysfs-bus-pci#L344-L355\n",
      "2025-10-31 13:59:32.872854: I external/local_xla/xla/stream_executor/cuda/cuda_executor.cc:901] successful NUMA node read from SysFS had negative value (-1), but there must be at least one NUMA node, so returning NUMA node zero. See more at https://github.com/torvalds/linux/blob/v6.0/Documentation/ABI/testing/sysfs-bus-pci#L344-L355\n",
      "2025-10-31 13:59:32.874374: I external/local_xla/xla/stream_executor/cuda/cuda_executor.cc:901] successful NUMA node read from SysFS had negative value (-1), but there must be at least one NUMA node, so returning NUMA node zero. See more at https://github.com/torvalds/linux/blob/v6.0/Documentation/ABI/testing/sysfs-bus-pci#L344-L355\n",
      "2025-10-31 13:59:33.028133: I external/local_xla/xla/stream_executor/cuda/cuda_executor.cc:901] successful NUMA node read from SysFS had negative value (-1), but there must be at least one NUMA node, so returning NUMA node zero. See more at https://github.com/torvalds/linux/blob/v6.0/Documentation/ABI/testing/sysfs-bus-pci#L344-L355\n",
      "2025-10-31 13:59:33.029072: I external/local_xla/xla/stream_executor/cuda/cuda_executor.cc:901] successful NUMA node read from SysFS had negative value (-1), but there must be at least one NUMA node, so returning NUMA node zero. See more at https://github.com/torvalds/linux/blob/v6.0/Documentation/ABI/testing/sysfs-bus-pci#L344-L355\n",
      "2025-10-31 13:59:33.029905: I external/local_xla/xla/stream_executor/cuda/cuda_executor.cc:901] successful NUMA node read from SysFS had negative value (-1), but there must be at least one NUMA node, so returning NUMA node zero. See more at https://github.com/torvalds/linux/blob/v6.0/Documentation/ABI/testing/sysfs-bus-pci#L344-L355\n",
      "2025-10-31 13:59:33.030697: I tensorflow/core/common_runtime/gpu/gpu_device.cc:1929] Created device /job:localhost/replica:0/task:0/device:GPU:0 with 9055 MB memory:  -> device: 0, name: NVIDIA GeForce RTX 2080 Ti, pci bus id: 0000:08:00.0, compute capability: 7.5\n",
      "WARNING:absl:Variant folder /home/xy/tensorflow_datasets/svhn_cropped/3.1.0 has no dataset_info.json\n"
     ]
    },
    {
     "name": "stdout",
     "output_type": "stream",
     "text": [
      "\u001b[1mDownloading and preparing dataset Unknown size (download: Unknown size, generated: Unknown size, total: Unknown size) to /home/xy/tensorflow_datasets/svhn_cropped/3.1.0...\u001b[0m\n",
      "\u001b[1mDataset svhn_cropped downloaded and prepared to /home/xy/tensorflow_datasets/svhn_cropped/3.1.0. Subsequent calls will reuse this data.\u001b[0m\n"
     ]
    }
   ],
   "source": [
    "# MNIST\n",
    "(\n",
    "    (mnist_x_train, mnist_y_train),\n",
    "    (mnist_x_test, mnist_y_test),\n",
    ") = keras.datasets.mnist.load_data()\n",
    "\n",
    "# Add a channel dimension\n",
    "mnist_x_train = tf.expand_dims(mnist_x_train, -1)\n",
    "mnist_x_test = tf.expand_dims(mnist_x_test, -1)\n",
    "\n",
    "# Convert the labels to one-hot encoded vectors\n",
    "mnist_y_train = tf.one_hot(mnist_y_train, 10).numpy()\n",
    "\n",
    "# SVHN\n",
    "svhn_train, svhn_test = tfds.load(\n",
    "    \"svhn_cropped\", split=[\"train\", \"test\"], as_supervised=True\n",
    ")"
   ]
  },
  {
   "cell_type": "code",
   "execution_count": 3,
   "id": "6db7289e-73e3-4a5f-b5fc-3463224c0d97",
   "metadata": {},
   "outputs": [],
   "source": [
    "RESIZE_TO = 32\n",
    "\n",
    "SOURCE_BATCH_SIZE = 64\n",
    "TARGET_BATCH_SIZE = 3 * SOURCE_BATCH_SIZE  # Reference: Section 3.2\n",
    "EPOCHS = 10\n",
    "STEPS_PER_EPOCH = len(mnist_x_train) // SOURCE_BATCH_SIZE\n",
    "TOTAL_STEPS = EPOCHS * STEPS_PER_EPOCH\n",
    "\n",
    "AUTO = tf.data.AUTOTUNE\n",
    "LEARNING_RATE = 0.03\n",
    "\n",
    "WEIGHT_DECAY = 0.0005\n",
    "INIT = \"he_normal\"\n",
    "DEPTH = 28\n",
    "WIDTH_MULT = 2"
   ]
  },
  {
   "cell_type": "code",
   "execution_count": 4,
   "id": "1b795024-c79e-41ff-9d05-0808f6d25cc6",
   "metadata": {},
   "outputs": [],
   "source": [
    "# Initialize `RandAugment` object with 2 layers of\n",
    "# augmentation transforms and strength of 5.\n",
    "augmenter = RandAugment(value_range=(0, 255), augmentations_per_image=2, magnitude=0.5)\n",
    "\n",
    "\n",
    "def weak_augment(image, source=True):\n",
    "    if image.dtype != tf.float32:\n",
    "        image = tf.cast(image, tf.float32)\n",
    "\n",
    "    # MNIST images are grayscale, this is why we first convert them to\n",
    "    # RGB images.\n",
    "    if source:\n",
    "        image = tf.image.resize_with_pad(image, RESIZE_TO, RESIZE_TO)\n",
    "        image = tf.tile(image, [1, 1, 3])\n",
    "    image = tf.image.random_flip_left_right(image)\n",
    "    image = tf.image.random_crop(image, (RESIZE_TO, RESIZE_TO, 3))\n",
    "    return image\n",
    "\n",
    "\n",
    "def strong_augment(image, source=True):\n",
    "    if image.dtype != tf.float32:\n",
    "        image = tf.cast(image, tf.float32)\n",
    "\n",
    "    if source:\n",
    "        image = tf.image.resize_with_pad(image, RESIZE_TO, RESIZE_TO)\n",
    "        image = tf.tile(image, [1, 1, 3])\n",
    "    image = augmenter(image)\n",
    "    return image"
   ]
  },
  {
   "cell_type": "code",
   "execution_count": 5,
   "id": "c9567b1f-66a0-4c6f-9622-76054be375a7",
   "metadata": {},
   "outputs": [],
   "source": [
    "def create_individual_ds(ds, aug_func, source=True):\n",
    "    if source:\n",
    "        batch_size = SOURCE_BATCH_SIZE\n",
    "    else:\n",
    "        # During training 3x more target unlabeled samples are shown\n",
    "        # to the model in AdaMatch (Section 3.2 of the paper).\n",
    "        batch_size = TARGET_BATCH_SIZE\n",
    "    ds = ds.shuffle(batch_size * 10, seed=42)\n",
    "\n",
    "    if source:\n",
    "        ds = ds.map(lambda x, y: (aug_func(x), y), num_parallel_calls=AUTO)\n",
    "    else:\n",
    "        ds = ds.map(lambda x, y: (aug_func(x, False), y), num_parallel_calls=AUTO)\n",
    "\n",
    "    ds = ds.batch(batch_size).prefetch(AUTO)\n",
    "    return ds"
   ]
  },
  {
   "cell_type": "code",
   "execution_count": 6,
   "id": "a6f4ceb8-d449-4873-8bbf-8bcf8a866fee",
   "metadata": {},
   "outputs": [],
   "source": [
    "source_ds = tf.data.Dataset.from_tensor_slices((mnist_x_train, mnist_y_train))\n",
    "source_ds_w = create_individual_ds(source_ds, weak_augment)\n",
    "source_ds_s = create_individual_ds(source_ds, strong_augment)\n",
    "final_source_ds = tf.data.Dataset.zip((source_ds_w, source_ds_s))\n",
    "\n",
    "target_ds_w = create_individual_ds(svhn_train, weak_augment, source=False)\n",
    "target_ds_s = create_individual_ds(svhn_train, strong_augment, source=False)\n",
    "final_target_ds = tf.data.Dataset.zip((target_ds_w, target_ds_s))"
   ]
  },
  {
   "cell_type": "code",
   "execution_count": 7,
   "id": "8d3aaa53-1cb3-48f7-957b-c57f9f9b96ef",
   "metadata": {},
   "outputs": [],
   "source": [
    "def compute_loss_source(source_labels, logits_source_w, logits_source_s):\n",
    "    loss_func = keras.losses.CategoricalCrossentropy(from_logits=True)\n",
    "    # First compute the losses between original source labels and\n",
    "    # predictions made on the weakly and strongly augmented versions\n",
    "    # of the same images.\n",
    "    w_loss = loss_func(source_labels, logits_source_w)\n",
    "    s_loss = loss_func(source_labels, logits_source_s)\n",
    "    return w_loss + s_loss\n",
    "\n",
    "\n",
    "def compute_loss_target(target_pseudo_labels_w, logits_target_s, mask):\n",
    "    loss_func = keras.losses.CategoricalCrossentropy(from_logits=True, reduction=\"none\")\n",
    "    target_pseudo_labels_w = tf.stop_gradient(target_pseudo_labels_w)\n",
    "    # For calculating loss for the target samples, we treat the pseudo labels\n",
    "    # as the ground-truth. These are not considered during backpropagation\n",
    "    # which is a standard SSL practice.\n",
    "    target_loss = loss_func(target_pseudo_labels_w, logits_target_s)\n",
    "\n",
    "    # More on `mask` later.\n",
    "    mask = tf.cast(mask, target_loss.dtype)\n",
    "    target_loss *= mask\n",
    "    return tf.reduce_mean(target_loss, 0)"
   ]
  },
  {
   "cell_type": "code",
   "execution_count": 8,
   "id": "13a8c8aa-80e8-4c4d-8885-735e1fd35047",
   "metadata": {},
   "outputs": [],
   "source": [
    "class AdaMatch(keras.Model):\n",
    "    def __init__(self, model, total_steps, tau=0.9):\n",
    "        super().__init__()\n",
    "        self.model = model\n",
    "        self.tau = tau  # Denotes the confidence threshold\n",
    "        self.loss_tracker = tf.keras.metrics.Mean(name=\"loss\")\n",
    "        self.total_steps = total_steps\n",
    "        self.current_step = tf.Variable(0, dtype=\"int64\")\n",
    "\n",
    "    @property\n",
    "    def metrics(self):\n",
    "        return [self.loss_tracker]\n",
    "\n",
    "    # This is a warmup schedule to update the weight of the\n",
    "    # loss contributed by the target unlabeled samples. More\n",
    "    # on this in the text.\n",
    "    def compute_mu(self):\n",
    "        pi = tf.constant(np.pi, dtype=\"float32\")\n",
    "        step = tf.cast(self.current_step, dtype=\"float32\")\n",
    "        return 0.5 - tf.cos(tf.math.minimum(pi, (2 * pi * step) / self.total_steps)) / 2\n",
    "\n",
    "    def train_step(self, data):\n",
    "        ## Unpack and organize the data ##\n",
    "        source_ds, target_ds = data\n",
    "        (source_w, source_labels), (source_s, _) = source_ds\n",
    "        (\n",
    "            (target_w, _),\n",
    "            (target_s, _),\n",
    "        ) = target_ds  # Notice that we are NOT using any labels here.\n",
    "\n",
    "        combined_images = tf.concat([source_w, source_s, target_w, target_s], 0)\n",
    "        combined_source = tf.concat([source_w, source_s], 0)\n",
    "\n",
    "        total_source = tf.shape(combined_source)[0]\n",
    "        total_target = tf.shape(tf.concat([target_w, target_s], 0))[0]\n",
    "\n",
    "        with tf.GradientTape() as tape:\n",
    "            ## Forward passes ##\n",
    "            combined_logits = self.model(combined_images, training=True)\n",
    "            z_d_prime_source = self.model(\n",
    "                combined_source, training=False\n",
    "            )  # No BatchNorm update.\n",
    "            z_prime_source = combined_logits[:total_source]\n",
    "\n",
    "            ## 1. Random logit interpolation for the source images ##\n",
    "            lambd = tf.random.uniform((total_source, 10), 0, 1)\n",
    "            final_source_logits = (lambd * z_prime_source) + (\n",
    "                (1 - lambd) * z_d_prime_source\n",
    "            )\n",
    "\n",
    "            ## 2. Distribution alignment (only consider weakly augmented images) ##\n",
    "            # Compute softmax for logits of the WEAKLY augmented SOURCE images.\n",
    "            y_hat_source_w = tf.nn.softmax(final_source_logits[: tf.shape(source_w)[0]])\n",
    "\n",
    "            # Extract logits for the WEAKLY augmented TARGET images and compute softmax.\n",
    "            logits_target = combined_logits[total_source:]\n",
    "            logits_target_w = logits_target[: tf.shape(target_w)[0]]\n",
    "            y_hat_target_w = tf.nn.softmax(logits_target_w)\n",
    "\n",
    "            # Align the target label distribution to that of the source.\n",
    "            expectation_ratio = tf.reduce_mean(y_hat_source_w) / tf.reduce_mean(\n",
    "                y_hat_target_w\n",
    "            )\n",
    "            y_tilde_target_w = tf.math.l2_normalize(\n",
    "                y_hat_target_w * expectation_ratio, 1\n",
    "            )\n",
    "\n",
    "            ## 3. Relative confidence thresholding ##\n",
    "            row_wise_max = tf.reduce_max(y_hat_source_w, axis=-1)\n",
    "            final_sum = tf.reduce_mean(row_wise_max, 0)\n",
    "            c_tau = self.tau * final_sum\n",
    "            mask = tf.reduce_max(y_tilde_target_w, axis=-1) >= c_tau\n",
    "\n",
    "            ## Compute losses (pay attention to the indexing) ##\n",
    "            source_loss = compute_loss_source(\n",
    "                source_labels,\n",
    "                final_source_logits[: tf.shape(source_w)[0]],\n",
    "                final_source_logits[tf.shape(source_w)[0] :],\n",
    "            )\n",
    "            target_loss = compute_loss_target(\n",
    "                y_tilde_target_w, logits_target[tf.shape(target_w)[0] :], mask\n",
    "            )\n",
    "\n",
    "            t = self.compute_mu()  # Compute weight for the target loss\n",
    "            total_loss = source_loss + (t * target_loss)\n",
    "            self.current_step.assign_add(\n",
    "                1\n",
    "            )  # Update current training step for the scheduler\n",
    "\n",
    "        gradients = tape.gradient(total_loss, self.model.trainable_variables)\n",
    "        self.optimizer.apply_gradients(zip(gradients, self.model.trainable_variables))\n",
    "\n",
    "        self.loss_tracker.update_state(total_loss)\n",
    "        return {\"loss\": self.loss_tracker.result()}"
   ]
  },
  {
   "cell_type": "code",
   "execution_count": 9,
   "id": "e24538d1-c3dc-4b5b-a696-3ff511061622",
   "metadata": {},
   "outputs": [],
   "source": [
    "def wide_basic(x, n_input_plane, n_output_plane, stride):\n",
    "    conv_params = [[3, 3, stride, \"same\"], [3, 3, (1, 1), \"same\"]]\n",
    "\n",
    "    n_bottleneck_plane = n_output_plane\n",
    "\n",
    "    # Residual block\n",
    "    for i, v in enumerate(conv_params):\n",
    "        if i == 0:\n",
    "            if n_input_plane != n_output_plane:\n",
    "                x = layers.BatchNormalization()(x)\n",
    "                x = layers.Activation(\"relu\")(x)\n",
    "                convs = x\n",
    "            else:\n",
    "                convs = layers.BatchNormalization()(x)\n",
    "                convs = layers.Activation(\"relu\")(convs)\n",
    "            convs = layers.Conv2D(\n",
    "                n_bottleneck_plane,\n",
    "                (v[0], v[1]),\n",
    "                strides=v[2],\n",
    "                padding=v[3],\n",
    "                kernel_initializer=INIT,\n",
    "                kernel_regularizer=regularizers.l2(WEIGHT_DECAY),\n",
    "                use_bias=False,\n",
    "            )(convs)\n",
    "        else:\n",
    "            convs = layers.BatchNormalization()(convs)\n",
    "            convs = layers.Activation(\"relu\")(convs)\n",
    "            convs = layers.Conv2D(\n",
    "                n_bottleneck_plane,\n",
    "                (v[0], v[1]),\n",
    "                strides=v[2],\n",
    "                padding=v[3],\n",
    "                kernel_initializer=INIT,\n",
    "                kernel_regularizer=regularizers.l2(WEIGHT_DECAY),\n",
    "                use_bias=False,\n",
    "            )(convs)\n",
    "\n",
    "    # Shortcut connection: identity function or 1x1\n",
    "    # convolutional\n",
    "    #  (depends on difference between input & output shape - this\n",
    "    #   corresponds to whether we are using the first block in\n",
    "    #   each\n",
    "    #   group; see `block_series()`).\n",
    "    if n_input_plane != n_output_plane:\n",
    "        shortcut = layers.Conv2D(\n",
    "            n_output_plane,\n",
    "            (1, 1),\n",
    "            strides=stride,\n",
    "            padding=\"same\",\n",
    "            kernel_initializer=INIT,\n",
    "            kernel_regularizer=regularizers.l2(WEIGHT_DECAY),\n",
    "            use_bias=False,\n",
    "        )(x)\n",
    "    else:\n",
    "        shortcut = x\n",
    "\n",
    "    return layers.Add()([convs, shortcut])\n",
    "\n",
    "\n",
    "# Stacking residual units on the same stage\n",
    "def block_series(x, n_input_plane, n_output_plane, count, stride):\n",
    "    x = wide_basic(x, n_input_plane, n_output_plane, stride)\n",
    "    for i in range(2, int(count + 1)):\n",
    "        x = wide_basic(x, n_output_plane, n_output_plane, stride=1)\n",
    "    return x\n",
    "\n",
    "\n",
    "def get_network(image_size=32, num_classes=10):\n",
    "    n = (DEPTH - 4) / 6\n",
    "    n_stages = [16, 16 * WIDTH_MULT, 32 * WIDTH_MULT, 64 * WIDTH_MULT]\n",
    "\n",
    "    inputs = keras.Input(shape=(image_size, image_size, 3))\n",
    "    x = layers.Rescaling(scale=1.0 / 255)(inputs)\n",
    "\n",
    "    conv1 = layers.Conv2D(\n",
    "        n_stages[0],\n",
    "        (3, 3),\n",
    "        strides=1,\n",
    "        padding=\"same\",\n",
    "        kernel_initializer=INIT,\n",
    "        kernel_regularizer=regularizers.l2(WEIGHT_DECAY),\n",
    "        use_bias=False,\n",
    "    )(x)\n",
    "\n",
    "    ## Add wide residual blocks ##\n",
    "\n",
    "    conv2 = block_series(\n",
    "        conv1,\n",
    "        n_input_plane=n_stages[0],\n",
    "        n_output_plane=n_stages[1],\n",
    "        count=n,\n",
    "        stride=(1, 1),\n",
    "    )  # Stage 1\n",
    "\n",
    "    conv3 = block_series(\n",
    "        conv2,\n",
    "        n_input_plane=n_stages[1],\n",
    "        n_output_plane=n_stages[2],\n",
    "        count=n,\n",
    "        stride=(2, 2),\n",
    "    )  # Stage 2\n",
    "\n",
    "    conv4 = block_series(\n",
    "        conv3,\n",
    "        n_input_plane=n_stages[2],\n",
    "        n_output_plane=n_stages[3],\n",
    "        count=n,\n",
    "        stride=(2, 2),\n",
    "    )  # Stage 3\n",
    "\n",
    "    batch_norm = layers.BatchNormalization()(conv4)\n",
    "    relu = layers.Activation(\"relu\")(batch_norm)\n",
    "\n",
    "    # Classifier\n",
    "    trunk_outputs = layers.GlobalAveragePooling2D()(relu)\n",
    "    outputs = layers.Dense(\n",
    "        num_classes, kernel_regularizer=regularizers.l2(WEIGHT_DECAY)\n",
    "    )(trunk_outputs)\n",
    "\n",
    "    return keras.Model(inputs, outputs)"
   ]
  },
  {
   "cell_type": "code",
   "execution_count": 10,
   "id": "ef60a519-8af9-470c-84f8-0db513fde947",
   "metadata": {},
   "outputs": [
    {
     "name": "stdout",
     "output_type": "stream",
     "text": [
      "Model has 1.471226 Million parameters.\n"
     ]
    }
   ],
   "source": [
    "wrn_model = get_network()\n",
    "print(f\"Model has {wrn_model.count_params()/1e6} Million parameters.\")"
   ]
  },
  {
   "cell_type": "code",
   "execution_count": 11,
   "id": "f80c628c-ee59-4b41-8d0d-1e3eac20dd0b",
   "metadata": {},
   "outputs": [],
   "source": [
    "reduce_lr = keras.optimizers.schedules.CosineDecay(LEARNING_RATE, TOTAL_STEPS, 0.25)\n",
    "optimizer = keras.optimizers.Adam(reduce_lr)\n",
    "\n",
    "adamatch_trainer = AdaMatch(model=wrn_model, total_steps=TOTAL_STEPS)\n",
    "adamatch_trainer.compile(optimizer=optimizer)"
   ]
  },
  {
   "cell_type": "code",
   "execution_count": 12,
   "id": "863f4ee3-9358-46e1-ae23-e4580918f561",
   "metadata": {},
   "outputs": [
    {
     "name": "stdout",
     "output_type": "stream",
     "text": [
      "Epoch 1/10\n"
     ]
    },
    {
     "name": "stderr",
     "output_type": "stream",
     "text": [
      "2025-10-31 14:07:43.252286: I external/local_xla/xla/stream_executor/cuda/cuda_dnn.cc:454] Loaded cuDNN version 8907\n",
      "2025-10-31 14:07:50.452357: I external/local_xla/xla/service/service.cc:168] XLA service 0x5c1d77b92840 initialized for platform CUDA (this does not guarantee that XLA will be used). Devices:\n",
      "2025-10-31 14:07:50.452373: I external/local_xla/xla/service/service.cc:176]   StreamExecutor device (0): NVIDIA GeForce RTX 2080 Ti, Compute Capability 7.5\n",
      "2025-10-31 14:07:50.469579: I tensorflow/compiler/mlir/tensorflow/utils/dump_mlir_util.cc:269] disabling MLIR crash reproducer, set env var `MLIR_CRASH_REPRODUCER_DIRECTORY` to enable.\n",
      "WARNING: All log messages before absl::InitializeLog() is called are written to STDERR\n",
      "I0000 00:00:1761916070.547280   10888 device_compiler.h:186] Compiled cluster using XLA!  This line is logged at most once for the lifetime of the process.\n"
     ]
    },
    {
     "name": "stdout",
     "output_type": "stream",
     "text": [
      "382/382 [==============================] - 109s 243ms/step - loss: 4781278720.0000\n",
      "Epoch 2/10\n",
      "382/382 [==============================] - 96s 252ms/step - loss: 2.2810\n",
      "Epoch 3/10\n",
      "382/382 [==============================] - 96s 253ms/step - loss: 4.7718\n",
      "Epoch 4/10\n",
      "382/382 [==============================] - 96s 252ms/step - loss: 2.6790\n",
      "Epoch 5/10\n",
      "382/382 [==============================] - 96s 252ms/step - loss: 7.2640\n",
      "Epoch 6/10\n",
      "382/382 [==============================] - 97s 253ms/step - loss: 12.1459\n",
      "Epoch 7/10\n",
      "382/382 [==============================] - 99s 260ms/step - loss: 11.8727\n",
      "Epoch 8/10\n",
      "382/382 [==============================] - 97s 254ms/step - loss: 10.4593\n",
      "Epoch 9/10\n",
      "382/382 [==============================] - 97s 255ms/step - loss: 9.5570\n",
      "Epoch 10/10\n",
      "382/382 [==============================] - 100s 260ms/step - loss: 11.0001\n"
     ]
    },
    {
     "data": {
      "text/plain": [
       "<keras.src.callbacks.History at 0x7d16520f0460>"
      ]
     },
     "execution_count": 12,
     "metadata": {},
     "output_type": "execute_result"
    }
   ],
   "source": [
    "total_ds = tf.data.Dataset.zip((final_source_ds, final_target_ds))\n",
    "adamatch_trainer.fit(total_ds, epochs=EPOCHS)"
   ]
  },
  {
   "cell_type": "code",
   "execution_count": 13,
   "id": "94bbf017-af4b-451d-9fb0-24fd85fa32ec",
   "metadata": {},
   "outputs": [
    {
     "name": "stdout",
     "output_type": "stream",
     "text": [
      "136/136 [==============================] - 3s 20ms/step - loss: 771.4945 - sparse_categorical_accuracy: 0.0985\n",
      "Accuracy on target test set: 9.85%\n"
     ]
    }
   ],
   "source": [
    "# Compile the AdaMatch model to yield accuracy.\n",
    "adamatch_trained_model = adamatch_trainer.model\n",
    "adamatch_trained_model.compile(metrics=keras.metrics.SparseCategoricalAccuracy())\n",
    "\n",
    "# Score on the target test set.\n",
    "svhn_test = svhn_test.batch(TARGET_BATCH_SIZE).prefetch(AUTO)\n",
    "_, accuracy = adamatch_trained_model.evaluate(svhn_test)\n",
    "print(f\"Accuracy on target test set: {accuracy * 100:.2f}%\")"
   ]
  },
  {
   "cell_type": "code",
   "execution_count": 14,
   "id": "c6bed7b5-5536-4ebc-b247-6bb5ba392c22",
   "metadata": {},
   "outputs": [
    {
     "name": "stdout",
     "output_type": "stream",
     "text": [
      "53/53 [==============================] - 1s 20ms/step - loss: 771.4957 - sparse_categorical_accuracy: 0.9431\n",
      "Accuracy on source test set: 94.31%\n"
     ]
    }
   ],
   "source": [
    "# Utility function for preprocessing the source test set.\n",
    "def prepare_test_ds_source(image, label):\n",
    "    image = tf.image.resize_with_pad(image, RESIZE_TO, RESIZE_TO)\n",
    "    image = tf.tile(image, [1, 1, 3])\n",
    "    return image, label\n",
    "\n",
    "\n",
    "source_test_ds = tf.data.Dataset.from_tensor_slices((mnist_x_test, mnist_y_test))\n",
    "source_test_ds = (\n",
    "    source_test_ds.map(prepare_test_ds_source, num_parallel_calls=AUTO)\n",
    "    .batch(TARGET_BATCH_SIZE)\n",
    "    .prefetch(AUTO)\n",
    ")\n",
    "\n",
    "# Evaluation on the source test set.\n",
    "_, accuracy = adamatch_trained_model.evaluate(source_test_ds)\n",
    "print(f\"Accuracy on source test set: {accuracy * 100:.2f}%\")"
   ]
  },
  {
   "cell_type": "code",
   "execution_count": null,
   "id": "949d7620-28e9-4603-a670-1f322b3bd63c",
   "metadata": {},
   "outputs": [],
   "source": []
  },
  {
   "cell_type": "code",
   "execution_count": null,
   "id": "a7c56b5c-f928-477c-a5e3-087cebd24489",
   "metadata": {},
   "outputs": [],
   "source": []
  },
  {
   "cell_type": "code",
   "execution_count": null,
   "id": "7ded1d69-43b2-4436-b310-197fa86af953",
   "metadata": {},
   "outputs": [],
   "source": []
  },
  {
   "cell_type": "code",
   "execution_count": null,
   "id": "227680cf-754a-49eb-bf03-b69525173e7c",
   "metadata": {},
   "outputs": [],
   "source": []
  },
  {
   "cell_type": "code",
   "execution_count": null,
   "id": "b404a2f2-9b97-4d52-a27c-4da000ab63b4",
   "metadata": {},
   "outputs": [],
   "source": []
  },
  {
   "cell_type": "code",
   "execution_count": null,
   "id": "1621731b-5ad5-4d44-bd70-7223d1ee133a",
   "metadata": {},
   "outputs": [],
   "source": []
  },
  {
   "cell_type": "code",
   "execution_count": null,
   "id": "a52995f4-e480-424c-9aac-6554d568904b",
   "metadata": {},
   "outputs": [],
   "source": []
  },
  {
   "cell_type": "code",
   "execution_count": null,
   "id": "b2e87983-0977-4cf5-9fdb-d50d5779e514",
   "metadata": {},
   "outputs": [],
   "source": []
  },
  {
   "cell_type": "code",
   "execution_count": null,
   "id": "7d183451-158e-4df2-814b-58b3ccaec80d",
   "metadata": {},
   "outputs": [],
   "source": []
  },
  {
   "cell_type": "code",
   "execution_count": null,
   "id": "0e94e145-a163-4c47-b8e0-ed7d7905bf88",
   "metadata": {},
   "outputs": [],
   "source": []
  },
  {
   "cell_type": "code",
   "execution_count": null,
   "id": "8520e71d-e698-4ed3-ab9a-02b260e1bd19",
   "metadata": {},
   "outputs": [],
   "source": []
  },
  {
   "cell_type": "code",
   "execution_count": null,
   "id": "c750b606-a872-4568-8e7e-7c4382d9df4e",
   "metadata": {},
   "outputs": [],
   "source": []
  },
  {
   "cell_type": "code",
   "execution_count": null,
   "id": "7dbb3944-4319-4bee-a590-82b703a37ed0",
   "metadata": {},
   "outputs": [],
   "source": []
  }
 ],
 "metadata": {
  "kernelspec": {
   "display_name": "Python 3 (ipykernel)",
   "language": "python",
   "name": "python3"
  },
  "language_info": {
   "codemirror_mode": {
    "name": "ipython",
    "version": 3
   },
   "file_extension": ".py",
   "mimetype": "text/x-python",
   "name": "python",
   "nbconvert_exporter": "python",
   "pygments_lexer": "ipython3",
   "version": "3.10.12"
  }
 },
 "nbformat": 4,
 "nbformat_minor": 5
}
