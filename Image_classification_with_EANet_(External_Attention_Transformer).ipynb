{
 "cells": [
  {
   "cell_type": "code",
   "execution_count": 1,
   "id": "ad9ecbe4-167f-4295-b5a2-14fe521b5487",
   "metadata": {},
   "outputs": [
    {
     "name": "stderr",
     "output_type": "stream",
     "text": [
      "2025-10-20 15:37:38.431796: I tensorflow/core/platform/cpu_feature_guard.cc:210] This TensorFlow binary is optimized to use available CPU instructions in performance-critical operations.\n",
      "To enable the following instructions: AVX2 FMA, in other operations, rebuild TensorFlow with the appropriate compiler flags.\n"
     ]
    }
   ],
   "source": [
    "import keras\n",
    "from keras import layers\n",
    "from keras import ops\n",
    "\n",
    "import matplotlib.pyplot as plt"
   ]
  },
  {
   "cell_type": "code",
   "execution_count": 2,
   "id": "ef441589-87c5-4bbf-b05b-f87551cf149c",
   "metadata": {},
   "outputs": [
    {
     "name": "stdout",
     "output_type": "stream",
     "text": [
      "x_train shape: (50000, 32, 32, 3) - y_train shape: (50000, 100)\n",
      "x_test shape: (10000, 32, 32, 3) - y_test shape: (10000, 100)\n"
     ]
    }
   ],
   "source": [
    "num_classes = 100\n",
    "input_shape = (32, 32, 3)\n",
    "\n",
    "(x_train, y_train), (x_test, y_test) = keras.datasets.cifar100.load_data()\n",
    "y_train = keras.utils.to_categorical(y_train, num_classes)\n",
    "y_test = keras.utils.to_categorical(y_test, num_classes)\n",
    "print(f\"x_train shape: {x_train.shape} - y_train shape: {y_train.shape}\")\n",
    "print(f\"x_test shape: {x_test.shape} - y_test shape: {y_test.shape}\")"
   ]
  },
  {
   "cell_type": "code",
   "execution_count": 3,
   "id": "694e5788-664c-428e-96e2-c9ad501452af",
   "metadata": {},
   "outputs": [
    {
     "name": "stdout",
     "output_type": "stream",
     "text": [
      "Patch size: 2 X 2 = 4 \n",
      "Patches per image: 256\n"
     ]
    }
   ],
   "source": [
    "weight_decay = 0.0001\n",
    "learning_rate = 0.001\n",
    "label_smoothing = 0.1\n",
    "validation_split = 0.2\n",
    "batch_size = 5   #CHANGE THIS TO HANDLE MEMORY SHORTAGE\n",
    "num_epochs = 50\n",
    "patch_size = 2  # Size of the patches to be extracted from the input images.\n",
    "num_patches = (input_shape[0] // patch_size) ** 2  # Number of patch\n",
    "embedding_dim = 64  # Number of hidden units.\n",
    "mlp_dim = 64\n",
    "dim_coefficient = 4\n",
    "num_heads = 4\n",
    "attention_dropout = 0.2\n",
    "projection_dropout = 0.2\n",
    "num_transformer_blocks = 8  # Number of repetitions of the transformer layer\n",
    "\n",
    "print(f\"Patch size: {patch_size} X {patch_size} = {patch_size ** 2} \")\n",
    "print(f\"Patches per image: {num_patches}\")"
   ]
  },
  {
   "cell_type": "code",
   "execution_count": 4,
   "id": "025d5664-f01c-43ce-b84e-14a142961ba7",
   "metadata": {},
   "outputs": [
    {
     "name": "stderr",
     "output_type": "stream",
     "text": [
      "WARNING: All log messages before absl::InitializeLog() is called are written to STDERR\n",
      "I0000 00:00:1760967469.198964   11978 gpu_device.cc:2020] Created device /job:localhost/replica:0/task:0/device:GPU:0 with 8945 MB memory:  -> device: 0, name: NVIDIA GeForce RTX 2080 Ti, pci bus id: 0000:08:00.0, compute capability: 7.5\n"
     ]
    }
   ],
   "source": [
    "data_augmentation = keras.Sequential(\n",
    "    [\n",
    "        layers.Normalization(),\n",
    "        layers.RandomFlip(\"horizontal\"),\n",
    "        layers.RandomRotation(factor=0.1),\n",
    "        layers.RandomContrast(factor=0.1),\n",
    "        layers.RandomZoom(height_factor=0.2, width_factor=0.2),\n",
    "    ],\n",
    "    name=\"data_augmentation\",\n",
    ")\n",
    "# Compute the mean and the variance of the training data for normalization.\n",
    "data_augmentation.layers[0].adapt(x_train)"
   ]
  },
  {
   "cell_type": "code",
   "execution_count": 5,
   "id": "b32df331-8766-4583-b389-4c76f599535b",
   "metadata": {},
   "outputs": [],
   "source": [
    "class PatchExtract(layers.Layer):\n",
    "    def __init__(self, patch_size, **kwargs):\n",
    "        super().__init__(**kwargs)\n",
    "        self.patch_size = patch_size\n",
    "\n",
    "    def call(self, x):\n",
    "        B, C = ops.shape(x)[0], ops.shape(x)[-1]\n",
    "        x = ops.image.extract_patches(x, self.patch_size)\n",
    "        x = ops.reshape(x, (B, -1, self.patch_size * self.patch_size * C))\n",
    "        return x\n",
    "\n",
    "\n",
    "class PatchEmbedding(layers.Layer):\n",
    "    def __init__(self, num_patch, embed_dim, **kwargs):\n",
    "        super().__init__(**kwargs)\n",
    "        self.num_patch = num_patch\n",
    "        self.proj = layers.Dense(embed_dim)\n",
    "        self.pos_embed = layers.Embedding(input_dim=num_patch, output_dim=embed_dim)\n",
    "\n",
    "    def call(self, patch):\n",
    "        pos = ops.arange(start=0, stop=self.num_patch, step=1)\n",
    "        return self.proj(patch) + self.pos_embed(pos)"
   ]
  },
  {
   "cell_type": "code",
   "execution_count": 6,
   "id": "20b355af-9124-4d4b-88da-a5f48f7e8fb6",
   "metadata": {},
   "outputs": [],
   "source": [
    "def external_attention(\n",
    "    x,\n",
    "    dim,\n",
    "    num_heads,\n",
    "    dim_coefficient=4,\n",
    "    attention_dropout=0,\n",
    "    projection_dropout=0,\n",
    "):\n",
    "    _, num_patch, channel = x.shape\n",
    "    assert dim % num_heads == 0\n",
    "    num_heads = num_heads * dim_coefficient\n",
    "\n",
    "    x = layers.Dense(dim * dim_coefficient)(x)\n",
    "    # create tensor [batch_size, num_patches, num_heads, dim*dim_coefficient//num_heads]\n",
    "    x = ops.reshape(x, (-1, num_patch, num_heads, dim * dim_coefficient // num_heads))\n",
    "    x = ops.transpose(x, axes=[0, 2, 1, 3])\n",
    "    # a linear layer M_k\n",
    "    attn = layers.Dense(dim // dim_coefficient)(x)\n",
    "    # normalize attention map\n",
    "    attn = layers.Softmax(axis=2)(attn)\n",
    "    # dobule-normalization\n",
    "    attn = layers.Lambda(\n",
    "        lambda attn: ops.divide(\n",
    "            attn,\n",
    "            ops.convert_to_tensor(1e-9) + ops.sum(attn, axis=-1, keepdims=True),\n",
    "        )\n",
    "    )(attn)\n",
    "    attn = layers.Dropout(attention_dropout)(attn)\n",
    "    # a linear layer M_v\n",
    "    x = layers.Dense(dim * dim_coefficient // num_heads)(attn)\n",
    "    x = ops.transpose(x, axes=[0, 2, 1, 3])\n",
    "    x = ops.reshape(x, [-1, num_patch, dim * dim_coefficient])\n",
    "    # a linear layer to project original dim\n",
    "    x = layers.Dense(dim)(x)\n",
    "    x = layers.Dropout(projection_dropout)(x)\n",
    "    return x"
   ]
  },
  {
   "cell_type": "code",
   "execution_count": 7,
   "id": "63e1092f-07c1-4311-8d87-b2d9e72f1871",
   "metadata": {},
   "outputs": [],
   "source": [
    "def mlp(x, embedding_dim, mlp_dim, drop_rate=0.2):\n",
    "    x = layers.Dense(mlp_dim, activation=ops.gelu)(x)\n",
    "    x = layers.Dropout(drop_rate)(x)\n",
    "    x = layers.Dense(embedding_dim)(x)\n",
    "    x = layers.Dropout(drop_rate)(x)\n",
    "    return x"
   ]
  },
  {
   "cell_type": "code",
   "execution_count": 8,
   "id": "0a40550e-cca3-47b8-9cdf-8cf3c051453f",
   "metadata": {},
   "outputs": [],
   "source": [
    "def transformer_encoder(\n",
    "    x,\n",
    "    embedding_dim,\n",
    "    mlp_dim,\n",
    "    num_heads,\n",
    "    dim_coefficient,\n",
    "    attention_dropout,\n",
    "    projection_dropout,\n",
    "    attention_type=\"external_attention\",\n",
    "):\n",
    "    residual_1 = x\n",
    "    x = layers.LayerNormalization(epsilon=1e-5)(x)\n",
    "    if attention_type == \"external_attention\":\n",
    "        x = external_attention(\n",
    "            x,\n",
    "            embedding_dim,\n",
    "            num_heads,\n",
    "            dim_coefficient,\n",
    "            attention_dropout,\n",
    "            projection_dropout,\n",
    "        )\n",
    "    elif attention_type == \"self_attention\":\n",
    "        x = layers.MultiHeadAttention(\n",
    "            num_heads=num_heads,\n",
    "            key_dim=embedding_dim,\n",
    "            dropout=attention_dropout,\n",
    "        )(x, x)\n",
    "    x = layers.add([x, residual_1])\n",
    "    residual_2 = x\n",
    "    x = layers.LayerNormalization(epsilon=1e-5)(x)\n",
    "    x = mlp(x, embedding_dim, mlp_dim)\n",
    "    x = layers.add([x, residual_2])\n",
    "    return x"
   ]
  },
  {
   "cell_type": "code",
   "execution_count": 9,
   "id": "c38d7bea-75ad-4a64-88af-ce909eb8e7a0",
   "metadata": {},
   "outputs": [],
   "source": [
    "def get_model(attention_type=\"external_attention\"):\n",
    "    inputs = layers.Input(shape=input_shape)\n",
    "    # Image augment\n",
    "    x = data_augmentation(inputs)\n",
    "    # Extract patches.\n",
    "    x = PatchExtract(patch_size)(x)\n",
    "    # Create patch embedding.\n",
    "    x = PatchEmbedding(num_patches, embedding_dim)(x)\n",
    "    # Create Transformer block.\n",
    "    for _ in range(num_transformer_blocks):\n",
    "        x = transformer_encoder(\n",
    "            x,\n",
    "            embedding_dim,\n",
    "            mlp_dim,\n",
    "            num_heads,\n",
    "            dim_coefficient,\n",
    "            attention_dropout,\n",
    "            projection_dropout,\n",
    "            attention_type,\n",
    "        )\n",
    "\n",
    "    x = layers.GlobalAveragePooling1D()(x)\n",
    "    outputs = layers.Dense(num_classes, activation=\"softmax\")(x)\n",
    "    model = keras.Model(inputs=inputs, outputs=outputs)\n",
    "    return model"
   ]
  },
  {
   "cell_type": "code",
   "execution_count": 10,
   "id": "4fa504be-4ff6-4072-9134-3e6c72ea16ed",
   "metadata": {},
   "outputs": [
    {
     "name": "stdout",
     "output_type": "stream",
     "text": [
      "Epoch 1/50\n"
     ]
    },
    {
     "name": "stderr",
     "output_type": "stream",
     "text": [
      "2025-10-20 15:38:01.330731: I external/local_xla/xla/stream_executor/cuda/cuda_dnn.cc:473] Loaded cuDNN version 91400\n"
     ]
    },
    {
     "name": "stdout",
     "output_type": "stream",
     "text": [
      "\u001b[1m8000/8000\u001b[0m \u001b[32m━━━━━━━━━━━━━━━━━━━━\u001b[0m\u001b[37m\u001b[0m \u001b[1m210s\u001b[0m 25ms/step - accuracy: 0.0577 - loss: 4.3366 - top-5-accuracy: 0.1970 - val_accuracy: 0.0903 - val_loss: 4.8187 - val_top-5-accuracy: 0.2764\n",
      "Epoch 2/50\n",
      "\u001b[1m8000/8000\u001b[0m \u001b[32m━━━━━━━━━━━━━━━━━━━━\u001b[0m\u001b[37m\u001b[0m \u001b[1m208s\u001b[0m 26ms/step - accuracy: 0.1473 - loss: 3.7957 - top-5-accuracy: 0.3937 - val_accuracy: 0.0875 - val_loss: 5.6785 - val_top-5-accuracy: 0.2604\n",
      "Epoch 3/50\n",
      "\u001b[1m8000/8000\u001b[0m \u001b[32m━━━━━━━━━━━━━━━━━━━━\u001b[0m\u001b[37m\u001b[0m \u001b[1m214s\u001b[0m 27ms/step - accuracy: 0.1869 - loss: 3.6172 - top-5-accuracy: 0.4526 - val_accuracy: 0.0990 - val_loss: 6.1700 - val_top-5-accuracy: 0.2735\n",
      "Epoch 4/50\n",
      "\u001b[1m8000/8000\u001b[0m \u001b[32m━━━━━━━━━━━━━━━━━━━━\u001b[0m\u001b[37m\u001b[0m \u001b[1m219s\u001b[0m 27ms/step - accuracy: 0.2137 - loss: 3.5125 - top-5-accuracy: 0.4908 - val_accuracy: 0.1131 - val_loss: 5.5518 - val_top-5-accuracy: 0.3000\n",
      "Epoch 5/50\n",
      "\u001b[1m8000/8000\u001b[0m \u001b[32m━━━━━━━━━━━━━━━━━━━━\u001b[0m\u001b[37m\u001b[0m \u001b[1m217s\u001b[0m 27ms/step - accuracy: 0.2311 - loss: 3.4276 - top-5-accuracy: 0.5186 - val_accuracy: 0.0954 - val_loss: 6.7484 - val_top-5-accuracy: 0.2807\n",
      "Epoch 6/50\n",
      "\u001b[1m8000/8000\u001b[0m \u001b[32m━━━━━━━━━━━━━━━━━━━━\u001b[0m\u001b[37m\u001b[0m \u001b[1m219s\u001b[0m 27ms/step - accuracy: 0.2463 - loss: 3.3669 - top-5-accuracy: 0.5379 - val_accuracy: 0.1017 - val_loss: 6.8611 - val_top-5-accuracy: 0.2750\n",
      "Epoch 7/50\n",
      "\u001b[1m8000/8000\u001b[0m \u001b[32m━━━━━━━━━━━━━━━━━━━━\u001b[0m\u001b[37m\u001b[0m \u001b[1m215s\u001b[0m 27ms/step - accuracy: 0.2646 - loss: 3.3018 - top-5-accuracy: 0.5526 - val_accuracy: 0.1007 - val_loss: 6.8520 - val_top-5-accuracy: 0.2717\n",
      "Epoch 8/50\n",
      "\u001b[1m8000/8000\u001b[0m \u001b[32m━━━━━━━━━━━━━━━━━━━━\u001b[0m\u001b[37m\u001b[0m \u001b[1m219s\u001b[0m 27ms/step - accuracy: 0.2737 - loss: 3.2562 - top-5-accuracy: 0.5732 - val_accuracy: 0.1121 - val_loss: 6.7505 - val_top-5-accuracy: 0.2946\n",
      "Epoch 9/50\n",
      "\u001b[1m8000/8000\u001b[0m \u001b[32m━━━━━━━━━━━━━━━━━━━━\u001b[0m\u001b[37m\u001b[0m \u001b[1m215s\u001b[0m 27ms/step - accuracy: 0.2835 - loss: 3.2315 - top-5-accuracy: 0.5737 - val_accuracy: 0.1294 - val_loss: 6.2195 - val_top-5-accuracy: 0.3060\n",
      "Epoch 10/50\n",
      "\u001b[1m8000/8000\u001b[0m \u001b[32m━━━━━━━━━━━━━━━━━━━━\u001b[0m\u001b[37m\u001b[0m \u001b[1m219s\u001b[0m 27ms/step - accuracy: 0.2903 - loss: 3.1927 - top-5-accuracy: 0.5920 - val_accuracy: 0.1161 - val_loss: 6.9858 - val_top-5-accuracy: 0.2937\n",
      "Epoch 11/50\n",
      "\u001b[1m8000/8000\u001b[0m \u001b[32m━━━━━━━━━━━━━━━━━━━━\u001b[0m\u001b[37m\u001b[0m \u001b[1m210s\u001b[0m 26ms/step - accuracy: 0.2966 - loss: 3.1526 - top-5-accuracy: 0.6042 - val_accuracy: 0.1090 - val_loss: 7.5137 - val_top-5-accuracy: 0.2840\n",
      "Epoch 12/50\n",
      "\u001b[1m8000/8000\u001b[0m \u001b[32m━━━━━━━━━━━━━━━━━━━━\u001b[0m\u001b[37m\u001b[0m \u001b[1m219s\u001b[0m 27ms/step - accuracy: 0.3104 - loss: 3.1205 - top-5-accuracy: 0.6095 - val_accuracy: 0.1184 - val_loss: 6.9506 - val_top-5-accuracy: 0.2929\n",
      "Epoch 13/50\n",
      "\u001b[1m8000/8000\u001b[0m \u001b[32m━━━━━━━━━━━━━━━━━━━━\u001b[0m\u001b[37m\u001b[0m \u001b[1m219s\u001b[0m 27ms/step - accuracy: 0.3214 - loss: 3.0833 - top-5-accuracy: 0.6205 - val_accuracy: 0.1139 - val_loss: 7.1058 - val_top-5-accuracy: 0.2935\n",
      "Epoch 14/50\n",
      "\u001b[1m8000/8000\u001b[0m \u001b[32m━━━━━━━━━━━━━━━━━━━━\u001b[0m\u001b[37m\u001b[0m \u001b[1m209s\u001b[0m 26ms/step - accuracy: 0.3170 - loss: 3.0781 - top-5-accuracy: 0.6221 - val_accuracy: 0.1206 - val_loss: 7.2892 - val_top-5-accuracy: 0.2836\n",
      "Epoch 15/50\n",
      "\u001b[1m8000/8000\u001b[0m \u001b[32m━━━━━━━━━━━━━━━━━━━━\u001b[0m\u001b[37m\u001b[0m \u001b[1m207s\u001b[0m 26ms/step - accuracy: 0.3284 - loss: 3.0475 - top-5-accuracy: 0.6321 - val_accuracy: 0.1050 - val_loss: 8.3531 - val_top-5-accuracy: 0.2652\n",
      "Epoch 16/50\n",
      "\u001b[1m8000/8000\u001b[0m \u001b[32m━━━━━━━━━━━━━━━━━━━━\u001b[0m\u001b[37m\u001b[0m \u001b[1m218s\u001b[0m 27ms/step - accuracy: 0.3321 - loss: 3.0313 - top-5-accuracy: 0.6355 - val_accuracy: 0.1252 - val_loss: 7.6241 - val_top-5-accuracy: 0.3004\n",
      "Epoch 17/50\n",
      "\u001b[1m8000/8000\u001b[0m \u001b[32m━━━━━━━━━━━━━━━━━━━━\u001b[0m\u001b[37m\u001b[0m \u001b[1m218s\u001b[0m 27ms/step - accuracy: 0.3408 - loss: 2.9978 - top-5-accuracy: 0.6442 - val_accuracy: 0.1237 - val_loss: 7.4278 - val_top-5-accuracy: 0.2988\n",
      "Epoch 18/50\n",
      "\u001b[1m8000/8000\u001b[0m \u001b[32m━━━━━━━━━━━━━━━━━━━━\u001b[0m\u001b[37m\u001b[0m \u001b[1m218s\u001b[0m 27ms/step - accuracy: 0.3470 - loss: 2.9852 - top-5-accuracy: 0.6486 - val_accuracy: 0.1267 - val_loss: 7.4197 - val_top-5-accuracy: 0.2963\n",
      "Epoch 19/50\n",
      "\u001b[1m8000/8000\u001b[0m \u001b[32m━━━━━━━━━━━━━━━━━━━━\u001b[0m\u001b[37m\u001b[0m \u001b[1m215s\u001b[0m 27ms/step - accuracy: 0.3469 - loss: 2.9648 - top-5-accuracy: 0.6517 - val_accuracy: 0.1441 - val_loss: 6.6732 - val_top-5-accuracy: 0.3217\n",
      "Epoch 20/50\n",
      "\u001b[1m8000/8000\u001b[0m \u001b[32m━━━━━━━━━━━━━━━━━━━━\u001b[0m\u001b[37m\u001b[0m \u001b[1m218s\u001b[0m 27ms/step - accuracy: 0.3541 - loss: 2.9502 - top-5-accuracy: 0.6586 - val_accuracy: 0.1159 - val_loss: 8.3189 - val_top-5-accuracy: 0.2839\n",
      "Epoch 21/50\n",
      "\u001b[1m8000/8000\u001b[0m \u001b[32m━━━━━━━━━━━━━━━━━━━━\u001b[0m\u001b[37m\u001b[0m \u001b[1m218s\u001b[0m 27ms/step - accuracy: 0.3532 - loss: 2.9359 - top-5-accuracy: 0.6622 - val_accuracy: 0.1250 - val_loss: 7.3092 - val_top-5-accuracy: 0.2939\n",
      "Epoch 22/50\n",
      "\u001b[1m8000/8000\u001b[0m \u001b[32m━━━━━━━━━━━━━━━━━━━━\u001b[0m\u001b[37m\u001b[0m \u001b[1m219s\u001b[0m 27ms/step - accuracy: 0.3624 - loss: 2.9146 - top-5-accuracy: 0.6714 - val_accuracy: 0.1083 - val_loss: 8.0986 - val_top-5-accuracy: 0.2647\n",
      "Epoch 23/50\n",
      "\u001b[1m8000/8000\u001b[0m \u001b[32m━━━━━━━━━━━━━━━━━━━━\u001b[0m\u001b[37m\u001b[0m \u001b[1m220s\u001b[0m 27ms/step - accuracy: 0.3614 - loss: 2.9154 - top-5-accuracy: 0.6698 - val_accuracy: 0.1131 - val_loss: 7.9552 - val_top-5-accuracy: 0.2675\n",
      "Epoch 24/50\n",
      "\u001b[1m8000/8000\u001b[0m \u001b[32m━━━━━━━━━━━━━━━━━━━━\u001b[0m\u001b[37m\u001b[0m \u001b[1m218s\u001b[0m 27ms/step - accuracy: 0.3694 - loss: 2.8917 - top-5-accuracy: 0.6771 - val_accuracy: 0.1364 - val_loss: 6.8736 - val_top-5-accuracy: 0.3128\n",
      "Epoch 25/50\n",
      "\u001b[1m8000/8000\u001b[0m \u001b[32m━━━━━━━━━━━━━━━━━━━━\u001b[0m\u001b[37m\u001b[0m \u001b[1m209s\u001b[0m 26ms/step - accuracy: 0.3737 - loss: 2.8743 - top-5-accuracy: 0.6785 - val_accuracy: 0.1213 - val_loss: 7.8748 - val_top-5-accuracy: 0.2939\n",
      "Epoch 26/50\n",
      "\u001b[1m8000/8000\u001b[0m \u001b[32m━━━━━━━━━━━━━━━━━━━━\u001b[0m\u001b[37m\u001b[0m \u001b[1m218s\u001b[0m 27ms/step - accuracy: 0.3762 - loss: 2.8721 - top-5-accuracy: 0.6843 - val_accuracy: 0.1284 - val_loss: 7.7318 - val_top-5-accuracy: 0.2958\n",
      "Epoch 27/50\n",
      "\u001b[1m8000/8000\u001b[0m \u001b[32m━━━━━━━━━━━━━━━━━━━━\u001b[0m\u001b[37m\u001b[0m \u001b[1m219s\u001b[0m 27ms/step - accuracy: 0.3739 - loss: 2.8575 - top-5-accuracy: 0.6846 - val_accuracy: 0.1157 - val_loss: 8.7066 - val_top-5-accuracy: 0.2891\n",
      "Epoch 28/50\n",
      "\u001b[1m8000/8000\u001b[0m \u001b[32m━━━━━━━━━━━━━━━━━━━━\u001b[0m\u001b[37m\u001b[0m \u001b[1m219s\u001b[0m 27ms/step - accuracy: 0.3855 - loss: 2.8433 - top-5-accuracy: 0.6877 - val_accuracy: 0.1237 - val_loss: 7.7125 - val_top-5-accuracy: 0.2974\n",
      "Epoch 29/50\n",
      "\u001b[1m8000/8000\u001b[0m \u001b[32m━━━━━━━━━━━━━━━━━━━━\u001b[0m\u001b[37m\u001b[0m \u001b[1m218s\u001b[0m 27ms/step - accuracy: 0.3820 - loss: 2.8403 - top-5-accuracy: 0.6895 - val_accuracy: 0.1138 - val_loss: 8.2702 - val_top-5-accuracy: 0.2652\n",
      "Epoch 30/50\n",
      "\u001b[1m8000/8000\u001b[0m \u001b[32m━━━━━━━━━━━━━━━━━━━━\u001b[0m\u001b[37m\u001b[0m \u001b[1m219s\u001b[0m 27ms/step - accuracy: 0.3878 - loss: 2.8155 - top-5-accuracy: 0.6969 - val_accuracy: 0.1202 - val_loss: 8.0296 - val_top-5-accuracy: 0.2866\n",
      "Epoch 31/50\n",
      "\u001b[1m8000/8000\u001b[0m \u001b[32m━━━━━━━━━━━━━━━━━━━━\u001b[0m\u001b[37m\u001b[0m \u001b[1m214s\u001b[0m 27ms/step - accuracy: 0.3901 - loss: 2.8061 - top-5-accuracy: 0.7017 - val_accuracy: 0.1173 - val_loss: 8.1718 - val_top-5-accuracy: 0.2803\n",
      "Epoch 32/50\n",
      "\u001b[1m8000/8000\u001b[0m \u001b[32m━━━━━━━━━━━━━━━━━━━━\u001b[0m\u001b[37m\u001b[0m \u001b[1m219s\u001b[0m 27ms/step - accuracy: 0.3928 - loss: 2.8002 - top-5-accuracy: 0.7005 - val_accuracy: 0.1094 - val_loss: 8.8913 - val_top-5-accuracy: 0.2643\n",
      "Epoch 33/50\n",
      "\u001b[1m8000/8000\u001b[0m \u001b[32m━━━━━━━━━━━━━━━━━━━━\u001b[0m\u001b[37m\u001b[0m \u001b[1m220s\u001b[0m 27ms/step - accuracy: 0.3993 - loss: 2.7860 - top-5-accuracy: 0.7082 - val_accuracy: 0.1128 - val_loss: 8.3567 - val_top-5-accuracy: 0.2801\n",
      "Epoch 34/50\n",
      "\u001b[1m8000/8000\u001b[0m \u001b[32m━━━━━━━━━━━━━━━━━━━━\u001b[0m\u001b[37m\u001b[0m \u001b[1m218s\u001b[0m 27ms/step - accuracy: 0.3990 - loss: 2.7671 - top-5-accuracy: 0.7097 - val_accuracy: 0.1233 - val_loss: 7.5411 - val_top-5-accuracy: 0.2965\n",
      "Epoch 35/50\n",
      "\u001b[1m8000/8000\u001b[0m \u001b[32m━━━━━━━━━━━━━━━━━━━━\u001b[0m\u001b[37m\u001b[0m \u001b[1m220s\u001b[0m 27ms/step - accuracy: 0.4060 - loss: 2.7595 - top-5-accuracy: 0.7116 - val_accuracy: 0.1204 - val_loss: 7.8311 - val_top-5-accuracy: 0.2999\n",
      "Epoch 36/50\n",
      "\u001b[1m8000/8000\u001b[0m \u001b[32m━━━━━━━━━━━━━━━━━━━━\u001b[0m\u001b[37m\u001b[0m \u001b[1m218s\u001b[0m 27ms/step - accuracy: 0.4038 - loss: 2.7508 - top-5-accuracy: 0.7184 - val_accuracy: 0.1032 - val_loss: 8.8785 - val_top-5-accuracy: 0.2615\n",
      "Epoch 37/50\n",
      "\u001b[1m8000/8000\u001b[0m \u001b[32m━━━━━━━━━━━━━━━━━━━━\u001b[0m\u001b[37m\u001b[0m \u001b[1m220s\u001b[0m 28ms/step - accuracy: 0.4052 - loss: 2.7522 - top-5-accuracy: 0.7153 - val_accuracy: 0.1015 - val_loss: 8.7104 - val_top-5-accuracy: 0.2560\n",
      "Epoch 38/50\n",
      "\u001b[1m8000/8000\u001b[0m \u001b[32m━━━━━━━━━━━━━━━━━━━━\u001b[0m\u001b[37m\u001b[0m \u001b[1m220s\u001b[0m 28ms/step - accuracy: 0.4104 - loss: 2.7372 - top-5-accuracy: 0.7203 - val_accuracy: 0.1197 - val_loss: 8.9121 - val_top-5-accuracy: 0.2719\n",
      "Epoch 39/50\n",
      "\u001b[1m8000/8000\u001b[0m \u001b[32m━━━━━━━━━━━━━━━━━━━━\u001b[0m\u001b[37m\u001b[0m \u001b[1m207s\u001b[0m 26ms/step - accuracy: 0.4173 - loss: 2.7193 - top-5-accuracy: 0.7234 - val_accuracy: 0.1097 - val_loss: 8.8886 - val_top-5-accuracy: 0.2712\n",
      "Epoch 40/50\n",
      "\u001b[1m8000/8000\u001b[0m \u001b[32m━━━━━━━━━━━━━━━━━━━━\u001b[0m\u001b[37m\u001b[0m \u001b[1m218s\u001b[0m 27ms/step - accuracy: 0.4133 - loss: 2.7253 - top-5-accuracy: 0.7221 - val_accuracy: 0.1163 - val_loss: 8.0654 - val_top-5-accuracy: 0.2848\n",
      "Epoch 41/50\n",
      "\u001b[1m8000/8000\u001b[0m \u001b[32m━━━━━━━━━━━━━━━━━━━━\u001b[0m\u001b[37m\u001b[0m \u001b[1m218s\u001b[0m 27ms/step - accuracy: 0.4197 - loss: 2.7202 - top-5-accuracy: 0.7227 - val_accuracy: 0.1222 - val_loss: 8.0064 - val_top-5-accuracy: 0.2847\n",
      "Epoch 42/50\n",
      "\u001b[1m8000/8000\u001b[0m \u001b[32m━━━━━━━━━━━━━━━━━━━━\u001b[0m\u001b[37m\u001b[0m \u001b[1m218s\u001b[0m 27ms/step - accuracy: 0.4158 - loss: 2.7140 - top-5-accuracy: 0.7250 - val_accuracy: 0.1163 - val_loss: 7.9213 - val_top-5-accuracy: 0.2824\n",
      "Epoch 43/50\n",
      "\u001b[1m8000/8000\u001b[0m \u001b[32m━━━━━━━━━━━━━━━━━━━━\u001b[0m\u001b[37m\u001b[0m \u001b[1m211s\u001b[0m 26ms/step - accuracy: 0.4193 - loss: 2.7043 - top-5-accuracy: 0.7295 - val_accuracy: 0.1162 - val_loss: 7.9066 - val_top-5-accuracy: 0.2901\n",
      "Epoch 44/50\n",
      "\u001b[1m8000/8000\u001b[0m \u001b[32m━━━━━━━━━━━━━━━━━━━━\u001b[0m\u001b[37m\u001b[0m \u001b[1m218s\u001b[0m 27ms/step - accuracy: 0.4209 - loss: 2.7053 - top-5-accuracy: 0.7243 - val_accuracy: 0.1122 - val_loss: 8.3735 - val_top-5-accuracy: 0.2775\n",
      "Epoch 45/50\n",
      "\u001b[1m8000/8000\u001b[0m \u001b[32m━━━━━━━━━━━━━━━━━━━━\u001b[0m\u001b[37m\u001b[0m \u001b[1m218s\u001b[0m 27ms/step - accuracy: 0.4187 - loss: 2.6992 - top-5-accuracy: 0.7297 - val_accuracy: 0.1036 - val_loss: 8.8018 - val_top-5-accuracy: 0.2661\n",
      "Epoch 46/50\n",
      "\u001b[1m8000/8000\u001b[0m \u001b[32m━━━━━━━━━━━━━━━━━━━━\u001b[0m\u001b[37m\u001b[0m \u001b[1m218s\u001b[0m 27ms/step - accuracy: 0.4201 - loss: 2.6890 - top-5-accuracy: 0.7327 - val_accuracy: 0.1063 - val_loss: 8.6181 - val_top-5-accuracy: 0.2854\n",
      "Epoch 47/50\n",
      "\u001b[1m8000/8000\u001b[0m \u001b[32m━━━━━━━━━━━━━━━━━━━━\u001b[0m\u001b[37m\u001b[0m \u001b[1m218s\u001b[0m 27ms/step - accuracy: 0.4219 - loss: 2.6815 - top-5-accuracy: 0.7342 - val_accuracy: 0.1058 - val_loss: 9.0509 - val_top-5-accuracy: 0.2750\n",
      "Epoch 48/50\n",
      "\u001b[1m8000/8000\u001b[0m \u001b[32m━━━━━━━━━━━━━━━━━━━━\u001b[0m\u001b[37m\u001b[0m \u001b[1m216s\u001b[0m 27ms/step - accuracy: 0.4320 - loss: 2.6634 - top-5-accuracy: 0.7385 - val_accuracy: 0.1170 - val_loss: 8.5557 - val_top-5-accuracy: 0.2847\n",
      "Epoch 49/50\n",
      "\u001b[1m8000/8000\u001b[0m \u001b[32m━━━━━━━━━━━━━━━━━━━━\u001b[0m\u001b[37m\u001b[0m \u001b[1m218s\u001b[0m 27ms/step - accuracy: 0.4284 - loss: 2.6657 - top-5-accuracy: 0.7384 - val_accuracy: 0.1078 - val_loss: 8.1710 - val_top-5-accuracy: 0.2791\n",
      "Epoch 50/50\n",
      "\u001b[1m8000/8000\u001b[0m \u001b[32m━━━━━━━━━━━━━━━━━━━━\u001b[0m\u001b[37m\u001b[0m \u001b[1m220s\u001b[0m 28ms/step - accuracy: 0.4351 - loss: 2.6486 - top-5-accuracy: 0.7413 - val_accuracy: 0.1049 - val_loss: 8.5986 - val_top-5-accuracy: 0.2648\n"
     ]
    }
   ],
   "source": [
    "model = get_model(attention_type=\"external_attention\")\n",
    "\n",
    "model.compile(\n",
    "    loss=keras.losses.CategoricalCrossentropy(label_smoothing=label_smoothing),\n",
    "    optimizer=keras.optimizers.AdamW(\n",
    "        learning_rate=learning_rate, weight_decay=weight_decay\n",
    "    ),\n",
    "    metrics=[\n",
    "        keras.metrics.CategoricalAccuracy(name=\"accuracy\"),\n",
    "        keras.metrics.TopKCategoricalAccuracy(5, name=\"top-5-accuracy\"),\n",
    "    ],\n",
    ")\n",
    "\n",
    "history = model.fit(\n",
    "    x_train,\n",
    "    y_train,\n",
    "    batch_size=batch_size,\n",
    "    epochs=num_epochs,\n",
    "    validation_split=validation_split,\n",
    ")"
   ]
  },
  {
   "cell_type": "code",
   "execution_count": 11,
   "id": "34175523-3107-4860-b157-94c6e523ace2",
   "metadata": {},
   "outputs": [
    {
     "data": {
      "image/png": "[encoded data removed]",
      "text/plain": [
       "<Figure size 640x480 with 1 Axes>"
      ]
     },
     "metadata": {},
     "output_type": "display_data"
    }
   ],
   "source": [
    "plt.plot(history.history[\"loss\"], label=\"train_loss\")\n",
    "plt.plot(history.history[\"val_loss\"], label=\"val_loss\")\n",
    "plt.xlabel(\"Epochs\")\n",
    "plt.ylabel(\"Loss\")\n",
    "plt.title(\"Train and Validation Losses Over Epochs\", fontsize=14)\n",
    "plt.legend()\n",
    "plt.grid()\n",
    "plt.show()"
   ]
  },
  {
   "cell_type": "code",
   "execution_count": 12,
   "id": "a41a99ce-7ff3-4dbc-851a-6acd9f3ead37",
   "metadata": {},
   "outputs": [
    {
     "name": "stdout",
     "output_type": "stream",
     "text": [
      "\u001b[1m313/313\u001b[0m \u001b[32m━━━━━━━━━━━━━━━━━━━━\u001b[0m\u001b[37m\u001b[0m \u001b[1m5s\u001b[0m 15ms/step - accuracy: 0.1006 - loss: 8.5454 - top-5-accuracy: 0.2718\n",
      "Test loss: 8.55\n",
      "Test accuracy: 9.81%\n",
      "Test top 5 accuracy: 26.9%\n"
     ]
    }
   ],
   "source": [
    "loss, accuracy, top_5_accuracy = model.evaluate(x_test, y_test)\n",
    "print(f\"Test loss: {round(loss, 2)}\")\n",
    "print(f\"Test accuracy: {round(accuracy * 100, 2)}%\")\n",
    "print(f\"Test top 5 accuracy: {round(top_5_accuracy * 100, 2)}%\")"
   ]
  },
  {
   "cell_type": "code",
   "execution_count": null,
   "id": "961c5ef2-8366-4fe2-bbbf-b0fcebf7ccf4",
   "metadata": {},
   "outputs": [],
   "source": []
  },
  {
   "cell_type": "code",
   "execution_count": null,
   "id": "91f25b25-cea0-435d-b9c7-fadf577714e7",
   "metadata": {},
   "outputs": [],
   "source": []
  },
  {
   "cell_type": "code",
   "execution_count": null,
   "id": "9956f50e-5b9a-4791-9ccb-3354918c3d6c",
   "metadata": {},
   "outputs": [],
   "source": []
  },
  {
   "cell_type": "code",
   "execution_count": null,
   "id": "387658d1-6681-4f82-96db-5ea663b1f5d0",
   "metadata": {},
   "outputs": [],
   "source": []
  },
  {
   "cell_type": "code",
   "execution_count": null,
   "id": "bdcce780-ce5c-4f1b-8086-93fe7bd3c751",
   "metadata": {},
   "outputs": [],
   "source": []
  },
  {
   "cell_type": "code",
   "execution_count": null,
   "id": "24ceac29-69cd-46fd-8e72-d483eff39bc0",
   "metadata": {},
   "outputs": [],
   "source": []
  },
  {
   "cell_type": "code",
   "execution_count": null,
   "id": "db80eb2e-0571-4e85-b6a4-cfb5226b1fe0",
   "metadata": {},
   "outputs": [],
   "source": []
  },
  {
   "cell_type": "code",
   "execution_count": null,
   "id": "d2a3df08-ccb0-486b-9f00-22422508bb26",
   "metadata": {},
   "outputs": [],
   "source": []
  },
  {
   "cell_type": "code",
   "execution_count": null,
   "id": "b8ea75af-7544-4b8e-9026-3d2666ff7cf3",
   "metadata": {},
   "outputs": [],
   "source": []
  },
  {
   "cell_type": "code",
   "execution_count": null,
   "id": "ac50c381-b6b0-48ce-be7b-ed46958716d7",
   "metadata": {},
   "outputs": [],
   "source": []
  },
  {
   "cell_type": "code",
   "execution_count": null,
   "id": "40f78e1f-b7d9-472c-bb55-e3c3db50b47d",
   "metadata": {},
   "outputs": [],
   "source": []
  },
  {
   "cell_type": "code",
   "execution_count": null,
   "id": "83e8d5b5-0a34-43fd-b113-beaea891337b",
   "metadata": {},
   "outputs": [],
   "source": []
  },
  {
   "cell_type": "code",
   "execution_count": null,
   "id": "2ee00267-0fc0-4892-9be8-b5ebd30a811c",
   "metadata": {},
   "outputs": [],
   "source": []
  }
 ],
 "metadata": {
  "kernelspec": {
   "display_name": "Python 3 (ipykernel)",
   "language": "python",
   "name": "python3"
  },
  "language_info": {
   "codemirror_mode": {
    "name": "ipython",
    "version": 3
   },
   "file_extension": ".py",
   "mimetype": "text/x-python",
   "name": "python",
   "nbconvert_exporter": "python",
   "pygments_lexer": "ipython3",
   "version": "3.10.12"
  }
 },
 "nbformat": 4,
 "nbformat_minor": 5
}
